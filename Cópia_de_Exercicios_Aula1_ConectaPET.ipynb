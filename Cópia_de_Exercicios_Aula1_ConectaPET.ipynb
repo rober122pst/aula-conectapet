{
  "nbformat": 4,
  "nbformat_minor": 0,
  "metadata": {
    "colab": {
      "provenance": [],
      "include_colab_link": true
    },
    "kernelspec": {
      "name": "python3",
      "display_name": "Python 3"
    },
    "language_info": {
      "name": "python"
    }
  },
  "cells": [
    {
      "cell_type": "markdown",
      "metadata": {
        "id": "view-in-github",
        "colab_type": "text"
      },
      "source": [
        "<a href=\"https://colab.research.google.com/github/rober122pst/aula-conectapet/blob/main/C%C3%B3pia_de_Exercicios_Aula1_ConectaPET.ipynb\" target=\"_parent\"><img src=\"https://colab.research.google.com/assets/colab-badge.svg\" alt=\"Open In Colab\"/></a>"
      ]
    },
    {
      "cell_type": "markdown",
      "source": [
        "# Exercício 1 - Distância das vilas\n",
        "\n",
        "O mapa do Minecraft é composto de blocos cúbicos em uma relação de igualdade com o sistema métrico, assim, cada aresta dos blocos tem 1 metro. Dessa forma, é possível identificar localidades por triplas de coordenadas X, Y, Z, na qual X representa a longitude, Y representa a elevação em blocos e Z representa a latitude.\n",
        "\n",
        "Para simplificar a comunicação, é comum se referir a localidades apenas no plano da superfície do mapa, utilizando apenas as coordenadas X e Z, referindo-se ao ponto no X e Z informados e no Y do ponto da superfície.\n",
        "\n",
        "Para definir distâncias entre duas localidades é utilizada a fórmula de distância euclidiana, na qual o Y das duas coordenadas pode ser omitido para definir apenas a distância nas duas dimensões. A fórmula de distância euclidiana é:\n",
        "\n",
        "- D² = (X1 - X2)² + (Z1 - Z2)²\n",
        "\n",
        "\n",
        "Para entregar os ferros para as vilas, Tantan precisaria saber quais as distâncias da sua localidade para cada vila, podendo se programar em suas viagens. Nas anotações de Tantan, as vilas estavam associadas as seguintes coordenadas:\n",
        "\n",
        "- Hogsmeade (X: 34, Y: 110, Z: 220)\n",
        "- Kakariko (X: 0, Y: 64, Z: 0)\n",
        "- Solitude (X: 140, Y: 200, Z: 456)\n",
        "\n",
        "\n",
        "Sua tarefa é, baseado nas coordenadas atuais de Tantan, listar as distâncias para cada uma das vilas.\n",
        "\n",
        ">X\n",
        "\n",
        ">Z\n",
        "\n",
        "- X - número inteiro\n",
        "- Z - número inteiro\n",
        "\n",
        "\n",
        "As duas linhas da entrada são compostas por números inteiros X e Z, que indica a coordenada atual de Steve, sem o Y, que pode ser abstraído como informado na descrição.\n",
        "\n",
        "\n",
        "**Obs:** Você deve considerar que a entrada é amigável, ou seja, sempre estará dentro do formato descrito.\n",
        "\n",
        ">Distancia para Hogsmeade: **H**\n",
        "\n",
        ">Distancia para Kakariko: **K**\n",
        "\n",
        ">Distancia para Solitude: **S**\n",
        "\n",
        "-H - número de ponto flutuante\n",
        "-K - número de ponto flutuante\n",
        "-S - número de ponto flutuante\n",
        "\n",
        "\n",
        "As linhas de saída são compostas por um texto seguido, seguido pela distância da coordenada atual de Tantan para a vila correspondente.\n",
        "\n",
        "\n",
        "\n",
        "**Obs**: A distância deve ser aproximada em duas casas decimais.\n"
      ],
      "metadata": {
        "id": "qLCqv8JKWxtj"
      }
    },
    {
      "cell_type": "code",
      "source": [
        "# @title Meu Código:\n",
        "h = {'x': 34, 'y': 110, 'z': 220}\n",
        "k = {'x': 0, 'y': 64, 'z': 0}\n",
        "s = {'x': 140, 'y': 200, 'z': 456}\n",
        "\n",
        "myX = int(input('X: '))\n",
        "myZ = int(input('Z: '))\n",
        "\n",
        "h_dis = ((h['x'] - myX)**2 + (h['z'] - myZ)**2)**(1/2)\n",
        "k_dis = ((k['x'] - myX)**2 + (k['z'] - myZ)**2)**(1/2)\n",
        "s_dis = ((s['x'] - myX)**2 + (s['z'] - myZ)**2)**(1/2)\n",
        "\n",
        "print(f'\\nDistancia para Hogsmeade: {h_dis:.2f}')\n",
        "print(f'Distancia para Kakariko: {k_dis:.2f}')\n",
        "print(f'Distancia para Solitude: {s_dis:.2f}')"
      ],
      "metadata": {
        "id": "Zum5civkoFM-",
        "colab": {
          "base_uri": "https://localhost:8080/"
        },
        "outputId": "787e0364-3b07-494f-cd7e-2586ca306c98"
      },
      "execution_count": null,
      "outputs": [
        {
          "output_type": "stream",
          "name": "stdout",
          "text": [
            "X: 34\n",
            "Z: 200\n",
            "\n",
            "Distancia para Hogsmeade: 20.00\n",
            "Distancia para Kakariko: 202.87\n",
            "Distancia para Solitude: 277.08\n"
          ]
        }
      ]
    },
    {
      "cell_type": "markdown",
      "source": [
        "## Resposta:"
      ],
      "metadata": {
        "id": "14mJTPZTcQ_e"
      }
    },
    {
      "cell_type": "code",
      "source": [
        "h_x = 34\n",
        "k_x = 0\n",
        "s_x = 140\n",
        "\n",
        "h_z = 220\n",
        "k_z = 0\n",
        "s_z = 456\n",
        "\n",
        "x = int(input())\n",
        "z = int(input())\n",
        "\n",
        "a = (((h_x - x)**2 +(h_z - z)**2)**(1/2))\n",
        "b = (((k_x - x)**2 +(k_z - z)**2)**(1/2))\n",
        "c = (((s_x - x)**2 +(s_z - z)**2)**(1/2))\n",
        "\n",
        "print('Distancia para Hogsmeade: ' + str('%.2f' % a))\n",
        "print('Distancia para Kakariko: ' + str('%.2f' % b))\n",
        "print('Distancia para Solitude: ' + str('%.2f' % c))"
      ],
      "metadata": {
        "id": "vO84dPQhbrnn",
        "colab": {
          "base_uri": "https://localhost:8080/"
        },
        "outputId": "c58d8122-11e1-4bd7-9613-aac334b3fb9c"
      },
      "execution_count": null,
      "outputs": [
        {
          "output_type": "stream",
          "name": "stdout",
          "text": [
            "34\n",
            "200\n",
            "Distancia para Hogsmeade: 20.00\n",
            "Distancia para Kakariko: 202.87\n",
            "Distancia para Solitude: 277.08\n"
          ]
        }
      ]
    },
    {
      "cell_type": "markdown",
      "source": [
        "# Exercício 2 - Registro de Criaturas na Ilha da Barbie\n",
        "\n",
        "![Barbie](https://www.papeldeparede.etc.br/fotos/wp-content/uploads/Barbie11.jpg)\n",
        "\n",
        "Barbie está explorando uma ilha mágica e encontrou diversas criaturas em suas aventuras. Para organizar melhor seu registro sobre essas criaturas encantadoras, Barbie deseja sua ajuda para criar um código em Python que registre as criaturas, removendo nomes repetidos.\n",
        "\n",
        "Sua tarefa é escrever um código em Python que leia um número inteiro N > 0, representando a quantidade de criaturas que foram registradas. Em seguida, leia N linhas contendo os nomes das criaturas. O seu código deve imprimir os nomes das criaturas na ordem que apareceram, garantindo que cada nome de criatura apareça apenas uma vez na lista. Caso sejam encontradas criaturas repetidas, uma mensagem deverá ser impressa para cada uma das criaturas repetidas, conforme explicado abaixo.\n",
        "\n",
        "Você irá receber o número N de criaturas a serem registradas. Em seguida, N linhas contendo os nomes das criaturas.\n",
        "\n",
        "**obs 1**: o mesmo nome de criatura pode aparecer duas ou mais vezes na entrada.\n",
        "\n",
        "**obs 2**: os nomes repetidos contabilizam na quantidade de nomes de criaturas a serem lidas.\n",
        "\n",
        "Para cada criatura repetida, imprima: “Criatura repetida”\n",
        "\n",
        "Depois, imprima: “Registradas:\"\n",
        "\n",
        "Em seguida, imprima as criaturas, uma por linha.\n",
        "\n",
        "**obs 3**: se houver nomes repetidos, não imprima seu nome mais de uma vez nesta parte."
      ],
      "metadata": {
        "id": "zlTI1cdcZ-Fv"
      }
    },
    {
      "cell_type": "code",
      "source": [
        "# @title Meu Código:\n",
        "nCriaturas = int(input(\"Quantidade de criaturas: \"))\n",
        "count = 0\n",
        "criaturas = []\n",
        "\n",
        "while count < nCriaturas:\n",
        "  count+=1\n",
        "  name = input('Nome: ')\n",
        "  if name in criaturas:\n",
        "    print('Criatura Repetida\\n')\n",
        "  else:\n",
        "    criaturas.append(name);\n",
        "    print('Registrada!\\n')\n",
        "\n",
        "for i in criaturas:\n",
        "  print(criaturas[i])"
      ],
      "metadata": {
        "colab": {
          "base_uri": "https://localhost:8080/"
        },
        "id": "8oEp_jMDtX37",
        "outputId": "ae531386-be0f-4e56-c655-9c811aa61efc"
      },
      "execution_count": null,
      "outputs": [
        {
          "output_type": "stream",
          "name": "stdout",
          "text": [
            "Quantidade de criaturas: 10\n",
            "Nome: Grifo\n",
            "Registrada!\n",
            "\n",
            "Nome: Aparição\n",
            "Registrada!\n",
            "\n",
            "Nome: Grifo\n",
            "Criatura Repetida\n",
            "\n",
            "Nome: Lobo\n",
            "Registrada!\n",
            "\n",
            "Nome: Lobo\n",
            "Criatura Repetida\n",
            "\n",
            "Nome: Golem\n",
            "Registrada!\n",
            "\n",
            "Nome: Cachorro\n",
            "Registrada!\n",
            "\n",
            "Nome: Gato\n",
            "Registrada!\n",
            "\n",
            "Nome: Cachorro\n",
            "Criatura Repetida\n",
            "\n",
            "Nome: Concatriz\n",
            "Registrada!\n",
            "\n",
            "['Grifo', 'Aparição', 'Lobo', 'Golem', 'Cachorro', 'Gato', 'Concatriz']\n"
          ]
        }
      ]
    },
    {
      "cell_type": "markdown",
      "source": [
        "## Resposta:"
      ],
      "metadata": {
        "id": "K9NWhJ48clyz"
      }
    },
    {
      "cell_type": "code",
      "source": [
        "qtd_criaturas = int(input())\n",
        "contador = 0\n",
        "lista_criaturas = []\n",
        "\n",
        "while contador < qtd_criaturas:\n",
        "    contador += 1\n",
        "\n",
        "    #Receber o nome da criatura e verificar de imediato\n",
        "    #sua existência na lista.\n",
        "    nome_criatura = input()\n",
        "    if nome_criatura in lista_criaturas:\n",
        "        print('Criatura repetida')\n",
        "    else:\n",
        "        lista_criaturas.append(nome_criatura)\n",
        "\n",
        "print('Registradas:')\n",
        "\n",
        "#Printar todos os nomes na lista\n",
        "for nome in lista_criaturas:\n",
        "    print(nome)"
      ],
      "metadata": {
        "id": "goAxVxS1co-0"
      },
      "execution_count": null,
      "outputs": []
    },
    {
      "cell_type": "markdown",
      "source": [
        "# Exercício 3 - Jogos Competitivos\n",
        "\n",
        "O Intercin está uma loucura de animação!! Estamos na etapa mais animada, em que os times irão competir para prosseguir para as fases finais!! A competição possui 5 partidas classificatórias para a definição do grande vencedor. A métrica analisada para definir o vencedor de cada jogo é: o time que tiver a maior pontuação acumula 1 vitória.\n",
        "\n",
        "![gif](https://s2.glbimg.com/jz4jK69RH8vnZlH5BSfnqblXFg0=/smart/s.glbimg.com/es/ge/f/original/2016/10/25/gol_catorres_8bit_qnZbMyj.gif)\n",
        "\n",
        "\n",
        "- A primeira e segunda linha da entrada contém os nomes dos dois times:\n",
        "> time_1\n",
        ">\n",
        "\n",
        "> time_2\n",
        ">\n",
        "\n",
        "- Em seguida, para cada partida **são fornecidos dois valores inteiros**, que representam a pontuação que cada time obteve na partida, nesta ordem:\n",
        "\n",
        "> pontuação_do_time 1\n",
        ">\n",
        "\n",
        ">pontuação_do_time 2\n",
        ">\n",
        "\n",
        "- Vale ressaltar que são **no máximo** 5 jogos (rodadas), havendo possibilidade de terminar antes, caso um dos times consiga 3 vitórias primeiro. O time que alcançar 3 vitórias primeiro será o grande ganhador no final, independente do número de rodadas que precisou passar. Porém, lembre-se que o número máximo sempre é 5.\n",
        "- O time que tiver maior pontuação leva a vitória da rodada.\n",
        "\n",
        "**Obs: Nunca há empate nos pontos das rodadas nem das partidas.**\n",
        "\n",
        "\n",
        "- Em cada rodada, após receber a pontuação de cada time, você irá comparar esses pontos e imprimir a mensagem abaixo para o vencedor:\n",
        "\n",
        "> O vencedor da {n}ª rodada foi: {vencedor_rodada}\n",
        ">\n",
        "\n",
        "\n",
        "- No final, quando um dos times alcançar a condição de 3 vitórias, a seguinte mensagem deve ser impressa para o time vencedor:\n",
        "\n",
        " >O time {vencedor_partida} ganhou a partida final!\n",
        ">\n",
        "\n",
        "\n",
        "**Obs: Caso o número de 3 vitórias seja alcançada antes das 5 rodadas, o programa deve ser encerrado imediatamente, e você não receberá novas entradas**"
      ],
      "metadata": {
        "id": "0awd1udXafre"
      }
    },
    {
      "cell_type": "code",
      "source": [
        "# @title Meu Código:\n",
        "time_1 = str(input('Time 1: '))\n",
        "time_2 = str(input('Time 2: '))\n",
        "\n",
        "print(f'\\n{time_1} x {time_2}')\n",
        "\n",
        "vitorias_1 = 0\n",
        "vitorias_2 = 0\n",
        "\n",
        "vencedor_partida = \"\"\n",
        "\n",
        "while True:\n",
        "  gol_time_1 = str(input('Gols do time 1: '))\n",
        "  gol_time_2 = str(input('Gols do time 2: '))\n",
        "\n",
        "  print(f'\\n\\033[34mPlacar do jogo:\\n{time_1} {gol_time_1} x {gol_time_2} {time_2}\\033[0m\\n\\n')\n",
        "\n",
        "  if gol_time_1 > gol_time_2:\n",
        "    vitorias_1 += 1\n",
        "  else:\n",
        "    vitorias_2 += 1\n",
        "\n",
        "  if vitorias_1 == 3:\n",
        "    vencedor_partida = time_1\n",
        "    break\n",
        "  elif vitorias_2 == 3:\n",
        "    vencedor_partida = time_2\n",
        "    break\n",
        "\n",
        "\n",
        "print(f'O time \\033[1m{vencedor_partida}\\033[1m ganhou a partida final!')\n",
        "\n"
      ],
      "metadata": {
        "id": "LDf9i7ZdyVG9",
        "colab": {
          "base_uri": "https://localhost:8080/"
        },
        "outputId": "96fbc1f8-f5a7-4e08-977a-9e2985b91775"
      },
      "execution_count": null,
      "outputs": [
        {
          "output_type": "stream",
          "name": "stdout",
          "text": [
            "Time 1: SPORT\n",
            "Time 2: SANTA CRUZ\n",
            "\n",
            "SPORT x SANTA CRUZ\n",
            "Gols do time 1: 2\n",
            "Gols do time 2: 1\n",
            "\n",
            "\u001b[34mPlacar do jogo:\n",
            "SPORT 2 x 1 SANTA CRUZ\u001b[0m\n",
            "\n",
            "\n",
            "Gols do time 1: 0\n",
            "Gols do time 2: 2\n",
            "\n",
            "\u001b[34mPlacar do jogo:\n",
            "SPORT 0 x 2 SANTA CRUZ\u001b[0m\n",
            "\n",
            "\n",
            "Gols do time 1: 5\n",
            "Gols do time 2: 3\n",
            "\n",
            "\u001b[34mPlacar do jogo:\n",
            "SPORT 5 x 3 SANTA CRUZ\u001b[0m\n",
            "\n",
            "\n",
            "Gols do time 1: 1\n",
            "Gols do time 2: 3\n",
            "\n",
            "\u001b[34mPlacar do jogo:\n",
            "SPORT 1 x 3 SANTA CRUZ\u001b[0m\n",
            "\n",
            "\n",
            "Gols do time 1: 4\n",
            "Gols do time 2: 2\n",
            "\n",
            "\u001b[34mPlacar do jogo:\n",
            "SPORT 4 x 2 SANTA CRUZ\u001b[0m\n",
            "\n",
            "\n",
            "O time \u001b[1mSPORT\u001b[1m ganhou a partida final!\n"
          ]
        }
      ]
    },
    {
      "cell_type": "markdown",
      "source": [
        "## Resposta:"
      ],
      "metadata": {
        "id": "RlmsVhy4cuGN"
      }
    },
    {
      "cell_type": "code",
      "source": [
        "time1 = str(input())\n",
        "time2 = str(input())\n",
        "\n",
        "pontuacao_time1 = 0\n",
        "pontuacao_time2 = 0\n",
        "contador = 0\n",
        "fim = True\n",
        "\n",
        "while fim is True:\n",
        "    pontos_time1 = int(input())\n",
        "    pontos_time2 = int(input())\n",
        "\n",
        "    contador += 1\n",
        "\n",
        "    if pontos_time1 > pontos_time2:\n",
        "        pontuacao_time1 += 1\n",
        "\n",
        "        print(f\"O vencedor da {contador}ª rodada foi: {time1}\")\n",
        "\n",
        "    else:\n",
        "        pontuacao_time2 += 1\n",
        "        print(f\"O vencedor da {contador}ª rodada foi: {time2}\")\n",
        "\n",
        "    if pontuacao_time1 == 3:\n",
        "        print(f\"O time {time1} ganhou a partida final!\")\n",
        "        fim = False\n",
        "\n",
        "    elif pontuacao_time2 == 3:\n",
        "        print(f\"O time {time2} ganhou a partida final!\")\n",
        "        fim = False"
      ],
      "metadata": {
        "id": "n_tJPycoaqWc",
        "colab": {
          "base_uri": "https://localhost:8080/"
        },
        "outputId": "d1c98921-2232-41f3-a8e8-842434809a42"
      },
      "execution_count": null,
      "outputs": [
        {
          "output_type": "stream",
          "name": "stdout",
          "text": [
            "BARCELONA\n",
            "REAL MADRID\n",
            "2\n",
            "1\n",
            "O vencedor da 1ª rodada foi: BARCELONA\n",
            "0\n",
            "1\n",
            "O vencedor da 2ª rodada foi: REAL MADRID\n",
            "2\n",
            "1\n",
            "O vencedor da 3ª rodada foi: BARCELONA\n",
            "5\n",
            "0\n",
            "O vencedor da 4ª rodada foi: BARCELONA\n",
            "O time BARCELONA ganhou a partida final!\n"
          ]
        }
      ]
    }
  ]
}